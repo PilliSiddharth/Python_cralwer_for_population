{
 "cells": [
  {
   "cell_type": "code",
   "execution_count": null,
   "metadata": {},
   "outputs": [],
   "source": [
    "from urllib.request import urlopen\n",
    "from bs4 import BeautifulSoup\n",
    "import pandas as pd\n",
    "from time import sleep\n",
    "from selenium.webdriver.common.by import By\n",
    "from selenium import webdriver"
   ]
  },
  {
   "cell_type": "code",
   "execution_count": null,
   "metadata": {},
   "outputs": [],
   "source": [
    "driver = webdriver.Chrome(\"C:\\\\Users\\\\rajpilli\\\\Downloads\\\\chromedriver.exe\")\n",
    "driver.get(\"https://databank.worldbank.org/reports.aspx?source=2&series=SP.POP.TOTL&country=\")\n",
    "sleep(5)\n",
    "driver.find_element_by_css_selector(\"li#li_hidden_WDI_Time > a\").click()\n",
    "sleep(5)\n",
    "driver.find_element(By.ID, \"chk[WDI_Time].[Year].&[YR2000]\").click()\n",
    "sleep(5)\n",
    "driver.find_element(By.ID, \"chk[WDI_Time].[Year].&[YR1990]\").click()\n",
    "sleep(5)\n",
    "driver.find_element(By.ID, \"chk[WDI_Time].[Year].&[YR2009]\").click()\n",
    "sleep(5)\n",
    "driver.find_element(By.ID, \"chk[WDI_Time].[Year].&[YR2008]\").click()\n",
    "sleep(5)\n",
    "driver.find_element_by_css_selector(\"#zoomModalHeader > button\").click()\n",
    "sleep(5)\n",
    "driver.find_element_by_css_selector(\"div.selectionModifyTxt > a.actionBtn.pull-right.applyChangesDim\").click()\n",
    "sleep(7)\n",
    " \n",
    "html =driver.page_source"
   ]
  },
  {
   "cell_type": "code",
   "execution_count": null,
   "metadata": {},
   "outputs": [],
   "source": [
    "page = BeautifulSoup(html)"
   ]
  },
  {
   "cell_type": "code",
   "execution_count": null,
   "metadata": {},
   "outputs": [],
   "source": [
    "column_headers = ['', 'Country','2008','2009','2010','2011','2012','2013','2014','2015','2016','2017','2018','2019','']"
   ]
  },
  {
   "cell_type": "code",
   "execution_count": null,
   "metadata": {},
   "outputs": [],
   "source": [
    "print(column_headers)"
   ]
  },
  {
   "cell_type": "code",
   "execution_count": null,
   "metadata": {},
   "outputs": [],
   "source": [
    "rows = page.select(\"#grdTableView_DXMainTable > tbody > tr\")\n",
    "\n",
    "qb_stats = []\n",
    "for i in range(len(rows)):\n",
    "    qb_stats.append([col.getText() for col in rows[i].findAll('td')])"
   ]
  },
  {
   "cell_type": "code",
   "execution_count": null,
   "metadata": {},
   "outputs": [],
   "source": [
    "print(qb_stats)"
   ]
  },
  {
   "cell_type": "code",
   "execution_count": null,
   "metadata": {},
   "outputs": [],
   "source": [
    "data = pd.DataFrame(qb_stats, columns=column_headers[1:])"
   ]
  },
  {
   "cell_type": "code",
   "execution_count": null,
   "metadata": {},
   "outputs": [],
   "source": [
    "data"
   ]
  },
  {
   "cell_type": "code",
   "execution_count": null,
   "metadata": {},
   "outputs": [],
   "source": []
  }
 ],
 "metadata": {
  "kernelspec": {
   "display_name": "Python 3",
   "language": "python",
   "name": "python3"
  },
  "language_info": {
   "codemirror_mode": {
    "name": "ipython",
    "version": 3
   },
   "file_extension": ".py",
   "mimetype": "text/x-python",
   "name": "python",
   "nbconvert_exporter": "python",
   "pygments_lexer": "ipython3",
   "version": "3.7.6"
  }
 },
 "nbformat": 4,
 "nbformat_minor": 4
}
